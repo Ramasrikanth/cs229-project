{
 "cells": [
  {
   "cell_type": "code",
   "execution_count": 1,
   "metadata": {},
   "outputs": [],
   "source": [
    "import pandas as pd\n",
    "import numpy as np\n",
    "import gensim\n",
    "import nltk\n",
    "import re\n",
    "\n",
    "import matplotlib.pyplot as plt\n",
    "\n",
    "from sklearn.model_selection import train_test_split\n",
    "from sklearn.feature_extraction.text import CountVectorizer, TfidfVectorizer\n",
    "from sklearn.metrics import accuracy_score, confusion_matrix\n",
    "\n",
    "# helper function to clean texts\n",
    "def replace_contraction(text):\n",
    "    contraction_patterns = [ (r'won\\'t', 'will not'), (r'can\\'t', 'can not'), (r'i\\'m', 'i am'), (r'ain\\'t', 'is not'), (r'(\\w+)\\'ll', '\\g<1> will'), (r'(\\w+)n\\'t', '\\g<1> not'),\n",
    "                         (r'(\\w+)\\'ve', '\\g<1> have'), (r'(\\w+)\\'s', '\\g<1> is'), (r'(\\w+)\\'re', '\\g<1> are'), (r'(\\w+)\\'d', '\\g<1> would'), (r'&', 'and'), (r'dammit', 'damn it'), (r'dont', 'do not'), (r'wont', 'will not') ]\n",
    "    patterns = [(re.compile(regex), repl) for (regex, repl) in contraction_patterns]\n",
    "    for (pattern, repl) in patterns:\n",
    "        (text, count) = re.subn(pattern, repl, text)\n",
    "    return text\n",
    "\n",
    "def cleanText(text):\n",
    "    text = replace_contraction(text)\n",
    "    text = text.strip().replace(\"\\n\", \" \").replace(\"\\r\", \" \")\n",
    "    text = re.sub(r'[0-9,!@#$%^&*)(|/><\";:.?\\'\\\\}{]',\"\",text)\n",
    "    text = text.lower()\n",
    "    return text\n"
   ]
  },
  {
   "cell_type": "code",
   "execution_count": 2,
   "metadata": {},
   "outputs": [],
   "source": [
    "# prepare dataset\n",
    "df = pd.read_csv(\"data/study_data.csv\")\n",
    "\n",
    "treatment_label = 'arch_strong'\n",
    "control_label = 'control'\n",
    "treatment_control = df[df['arm'].isin([treatment_label,control_label])]\n",
    "X = np.array(treatment_control['post_q'].apply(cleanText))\n",
    "# X = np.array(df['post_q'].apply(cleanText))\n",
    "y = treatment_control['arm']\n"
   ]
  },
  {
   "cell_type": "markdown",
   "metadata": {},
   "source": [
    "### Word2Vec Embedding"
   ]
  },
  {
   "cell_type": "code",
   "execution_count": 3,
   "metadata": {},
   "outputs": [
    {
     "name": "stderr",
     "output_type": "stream",
     "text": [
      "[nltk_data] Downloading package stopwords to\n",
      "[nltk_data]     /Users/alexa712/nltk_data...\n",
      "[nltk_data]   Package stopwords is already up-to-date!\n"
     ]
    }
   ],
   "source": [
    "# tokenize the texts and remove stop words\n",
    "nltk.download('stopwords')\n",
    "from nltk.corpus import stopwords\n",
    "stop_words = stopwords.words('english')\n",
    "\n",
    "def clean_tokenize(X):\n",
    "    sentences = []\n",
    "    for res in X:\n",
    "        tokens = gensim.utils.simple_preprocess(res)\n",
    "        cleaned_tokens = []\n",
    "        for token in tokens:\n",
    "            if token not in stop_words:\n",
    "                cleaned_tokens.append(token)\n",
    "        sentences.append(cleaned_tokens)\n",
    "    return sentences\n",
    "\n",
    "sentences = clean_tokenize(X)"
   ]
  },
  {
   "cell_type": "code",
   "execution_count": 18,
   "metadata": {},
   "outputs": [
    {
     "data": {
      "text/plain": [
       "[('brick', 0.9997163414955139),\n",
       " ('design', 0.9996920228004456),\n",
       " ('front', 0.9996743202209473),\n",
       " ('house', 0.999661386013031),\n",
       " ('home', 0.9996578097343445),\n",
       " ('surround', 0.9996386170387268),\n",
       " ('symmetrical', 0.9996331334114075),\n",
       " ('window', 0.9996323585510254),\n",
       " ('one', 0.999631941318512),\n",
       " ('chimney', 0.9996238350868225)]"
      ]
     },
     "execution_count": 18,
     "metadata": {},
     "output_type": "execute_result"
    }
   ],
   "source": [
    "from gensim.models import Word2Vec\n",
    "\n",
    "# train word2vec embedding\n",
    "model = Word2Vec(sentences,size = 50,window = 10,iter = 10)\n",
    "# sanity check\n",
    "w1 = 'dormer'\n",
    "model.wv.most_similar(positive = w1)"
   ]
  },
  {
   "cell_type": "code",
   "execution_count": 19,
   "metadata": {},
   "outputs": [
    {
     "name": "stderr",
     "output_type": "stream",
     "text": [
      "/Users/alexa712/anaconda3/lib/python3.6/site-packages/ipykernel_launcher.py:2: DeprecationWarning: Call to deprecated `syn0` (Attribute will be removed in 4.0.0, use self.vectors instead).\n",
      "  \n"
     ]
    }
   ],
   "source": [
    "# export the w2vec model\n",
    "w2v = dict(zip(model.wv.index2word, model.wv.syn0))"
   ]
  },
  {
   "cell_type": "code",
   "execution_count": 35,
   "metadata": {},
   "outputs": [
    {
     "name": "stderr",
     "output_type": "stream",
     "text": [
      "/Users/alexa712/anaconda3/lib/python3.6/site-packages/ipykernel_launcher.py:4: DeprecationWarning: Call to deprecated `wv` (Attribute will be removed in 4.0.0, use self instead).\n",
      "  after removing the cwd from sys.path.\n",
      "/Users/alexa712/anaconda3/lib/python3.6/site-packages/ipykernel_launcher.py:4: DeprecationWarning: Call to deprecated `syn0` (Attribute will be removed in 4.0.0, use self.vectors instead).\n",
      "  after removing the cwd from sys.path.\n"
     ]
    }
   ],
   "source": [
    "# try pre-trained glove embeddings\n",
    "import gensim.downloader as api\n",
    "model_gigaword = api.load(\"glove-wiki-gigaword-100\")\n",
    "glove_big = dict(zip(model_gigaword.wv.index2word, model_gigaword.wv.syn0))"
   ]
  },
  {
   "cell_type": "code",
   "execution_count": 36,
   "metadata": {},
   "outputs": [
    {
     "name": "stderr",
     "output_type": "stream",
     "text": [
      "/Users/alexa712/anaconda3/lib/python3.6/site-packages/ipykernel_launcher.py:2: DeprecationWarning: Call to deprecated `wv` (Attribute will be removed in 4.0.0, use self instead).\n",
      "  \n",
      "/Users/alexa712/anaconda3/lib/python3.6/site-packages/ipykernel_launcher.py:2: DeprecationWarning: Call to deprecated `syn0` (Attribute will be removed in 4.0.0, use self.vectors instead).\n",
      "  \n"
     ]
    }
   ],
   "source": [
    "model_gigaword_small = api.load(\"glove-wiki-gigaword-50\")\n",
    "glove_small = dict(zip(model_gigaword_small.wv.index2word, model_gigaword_small.wv.syn0))"
   ]
  },
  {
   "cell_type": "markdown",
   "metadata": {},
   "source": [
    "### Model Comparisons"
   ]
  },
  {
   "cell_type": "code",
   "execution_count": 22,
   "metadata": {},
   "outputs": [],
   "source": [
    "# feature extractions from word2vec\n",
    "\n",
    "class MeanEmbeddingVectorizer(object):\n",
    "    def __init__(self, word2vec):\n",
    "        self.word2vec = word2vec\n",
    "        if len(word2vec)>0:\n",
    "            self.dim=len(word2vec[next(iter(word2vec))])\n",
    "        else:\n",
    "            self.dim=0\n",
    "            \n",
    "    def fit(self, X, y):\n",
    "        return self \n",
    "\n",
    "    def transform(self, X):\n",
    "        return np.array([\n",
    "            np.mean([self.word2vec[w] for w in words if w in self.word2vec] \n",
    "                    or [np.zeros(self.dim)], axis=0)\n",
    "            for words in X\n",
    "        ])\n",
    "\n",
    "class TfidfEmbeddingVectorizer(object):\n",
    "    def __init__(self, word2vec):\n",
    "        self.word2vec = word2vec\n",
    "        self.word2weight = None\n",
    "        if len(word2vec)>0:\n",
    "            self.dim=len(word2vec[next(iter(word2vec))])\n",
    "        else:\n",
    "            self.dim=0\n",
    "        \n",
    "    def fit(self, X, y):\n",
    "        tfidf = TfidfVectorizer(analyzer=lambda x: x)\n",
    "        tfidf.fit(X)\n",
    "        # if a word was never seen - it must be at least as infrequent\n",
    "        # as any of the known words - so the default idf is the max of \n",
    "        # known idf's\n",
    "        max_idf = max(tfidf.idf_)\n",
    "        self.word2weight = defaultdict(\n",
    "            lambda: max_idf, \n",
    "            [(w, tfidf.idf_[i]) for w, i in tfidf.vocabulary_.items()])\n",
    "    \n",
    "        return self\n",
    "    \n",
    "    def transform(self, X):\n",
    "        return np.array([\n",
    "                np.mean([self.word2vec[w] * self.word2weight[w]\n",
    "                         for w in words if w in self.word2vec] or\n",
    "                        [np.zeros(self.dim)], axis=0)\n",
    "                for words in X\n",
    "            ])\n",
    "\n"
   ]
  },
  {
   "cell_type": "code",
   "execution_count": 48,
   "metadata": {},
   "outputs": [],
   "source": [
    "from sklearn.pipeline import Pipeline\n",
    "from sklearn.svm import SVC\n",
    "from sklearn.linear_model import LogisticRegression\n",
    "from sklearn.ensemble import RandomForestClassifier\n",
    "from sklearn.cross_validation import cross_val_score\n",
    "from tabulate import tabulate\n",
    "from collections import Counter, defaultdict\n",
    "from sklearn.feature_extraction.text import CountVectorizer\n",
    "from sklearn.feature_extraction.text import TfidfVectorizer\n",
    "from sklearn.naive_bayes import BernoulliNB, MultinomialNB\n",
    "\n",
    "\n",
    "\n",
    "# logreg_w2v = Pipeline([(\"word2vec vectorizer\", TfidfEmbeddingVectorizer(w2v)), \n",
    "#                         (\"log reg\", LogisticRegression())])\n",
    "# logreg_w2v_50 = Pipeline([(\"word2vec vectorizer\", TfidfEmbeddingVectorizer(w2v_50)), \n",
    "#                         (\"log reg\", LogisticRegression())])\n",
    "# logreg_w2v_big = Pipeline([(\"word2vec vectorizer\", TfidfEmbeddingVectorizer(w2v_big)), \n",
    "#                         (\"log reg\", LogisticRegression())])\n",
    "# svm_w2v = Pipeline([(\"word2vec vectorizer\", TfidfEmbeddingVectorizer(w2v)), \n",
    "#                         (\"svm\", SVC(kernel='linear'))])\n",
    "# # svm_w2v_tfidf = Pipeline([(\"word2vec vectorizer\", TfidfEmbeddingVectorizer(w2v)), \n",
    "# #                         (\"svm\", SVC(kernel='linear'))])\n",
    "# svm_w2v_big = Pipeline([(\"word2vec vectorizer\", TfidfEmbeddingVectorizer(w2v_big)), \n",
    "#                         (\"svm\", SVC(kernel='linear'))])\n",
    "# svm_w2v_50 = Pipeline([(\"word2vec vectorizer\", TfidfEmbeddingVectorizer(w2v_50)), \n",
    "#                         (\"svm\", SVC(kernel='linear'))])\n",
    "\n",
    "\n",
    "logreg_w2v = Pipeline([(\"word2vec vectorizer\", MeanEmbeddingVectorizer(w2v)), \n",
    "                        (\"log reg\", LogisticRegression())])\n",
    "logreg_glove_small = Pipeline([(\"glove vectorizer\", MeanEmbeddingVectorizer(glove_small)), \n",
    "                        (\"log reg\", LogisticRegression())])\n",
    "logreg_glove_big = Pipeline([(\"glove vectorizer\", MeanEmbeddingVectorizer(glove_big)), \n",
    "                        (\"log reg\", LogisticRegression())])\n",
    "rf_glove_big = Pipeline([(\"glove\", MeanEmbeddingVectorizer(glove_big)), \n",
    "                        (\"rf\", RandomForestClassifier(n_estimators = 200, oob_score = True, random_state = 47))])\n",
    "\n",
    "svm_w2v = Pipeline([(\"word2vec vectorizer\", MeanEmbeddingVectorizer(w2v)), \n",
    "                        (\"svm\", SVC(kernel='linear'))])\n",
    "svm_glove_big = Pipeline([(\"glove vectorizer\", MeanEmbeddingVectorizer(glove_big)), \n",
    "                        (\"svm\", SVC(kernel='linear'))])\n",
    "svm_glove_small = Pipeline([(\"glove vectorizer\", MeanEmbeddingVectorizer(glove_small)), \n",
    "                        (\"svm\", SVC(kernel='linear'))])\n",
    "\n",
    "# svm_w2v_big_tfidf = Pipeline([(\"word2vec vectorizer\", TfidfEmbeddingVectorizer(w2v_big)), \n",
    "#                         (\"svm\", SVC(kernel='linear'))])\n",
    "mult_nb = Pipeline([(\"count_vectorizer\", CountVectorizer(analyzer=lambda x: x)), (\"multinomial nb\", MultinomialNB())])\n",
    "bern_nb = Pipeline([(\"count_vectorizer\", CountVectorizer(analyzer=lambda x: x)), (\"bernoulli nb\", BernoulliNB())])\n",
    "#mult_nb_tfidf = Pipeline([(\"tfidf_vectorizer\", TfidfVectorizer(analyzer=lambda x: x)), (\"multinomial nb\", MultinomialNB())])\n",
    "#bern_nb_tfidf = Pipeline([(\"tfidf_vectorizer\", TfidfVectorizer(analyzer=lambda x: x)), (\"bernoulli nb\", BernoulliNB())])"
   ]
  },
  {
   "cell_type": "code",
   "execution_count": 49,
   "metadata": {},
   "outputs": [],
   "source": [
    "all_models = [\n",
    "    (\"mult_nb\", mult_nb),\n",
    "#     (\"mult_nb_tfidf\", mult_nb_tfidf),\n",
    "    (\"bern_nb\", bern_nb),\n",
    "    (\"rf_glove_100\",rf_glove_big),\n",
    "#     (\"bern_nb_tfidf\", bern_nb_tfidf),\n",
    "    (\"logreg_w2v\", logreg_w2v),\n",
    "    (\"logreg_glove_50\", logreg_glove_small),\n",
    "    (\"logreg_glove_100\", logreg_glove_big),\n",
    "    (\"svm_glove_50\", svm_glove_small),\n",
    "    (\"svm_w2v\", svm_w2v),\n",
    "    (\"svm_glove_big\", svm_glove_big),\n",
    "#     (\"svm_w2v_tfidf\", svm_w2v_tfidf),\n",
    "#     (\"svm_w2v_big_tfidfd\", svm_w2v_big_tfidf)\n",
    "#     (\"w2v_tfidf\", etree_w2v_tfidf),\n",
    "#     (\"glove_small\", etree_glove_small),\n",
    "#     (\"glove_small_tfidf\", etree_glove_small_tfidf),\n",
    "#     (\"glove_big\", etree_glove_big),\n",
    "#     (\"glove_big_tfidf\", etree_glove_big_tfidf),\n",
    "]"
   ]
  },
  {
   "cell_type": "markdown",
   "metadata": {},
   "source": [
    "### Generating the Null Distribution"
   ]
  },
  {
   "cell_type": "code",
   "execution_count": 33,
   "metadata": {},
   "outputs": [],
   "source": [
    "\n",
    "treatment_label = 'arch_strong'\n",
    "control_label = 'control'\n",
    "\n",
    "treatment_control = df[df['arm'].isin([treatment_label,control_label])]\n",
    "X = np.array(treatment_control['post_q'].apply(cleanText))\n",
    "y = treatment_control['arm']\n",
    "X_clean = clean_tokenize(X)\n",
    "X_train, X_test, y_train, y_test = train_test_split(X, y, test_size=0.2, random_state = 42)\n",
    "X_train_clean = clean_tokenize(X_train)\n",
    "X_test_clean = clean_tokenize(X_test)"
   ]
  },
  {
   "cell_type": "code",
   "execution_count": 47,
   "metadata": {},
   "outputs": [
    {
     "name": "stdout",
     "output_type": "stream",
     "text": [
      "model               score\n",
      "----------------  -------\n",
      "logreg_glove_100   0.8067\n",
      "mult_nb            0.8067\n",
      "svm_glove_big      0.8000\n",
      "bern_nb            0.7867\n",
      "logreg_glove_50    0.7867\n",
      "svm_glove_50       0.7867\n",
      "rf_glove           0.7400\n",
      "logreg_w2v         0.4667\n",
      "svm_w2v            0.4467\n"
     ]
    }
   ],
   "source": [
    "from sklearn import metrics\n",
    "\n",
    "unsorted_scores = [(name, cross_val_score(model, X_train_clean, y_train, cv=5, scoring = \"f1_micro\").mean()) for name, model in all_models]\n",
    "scores = sorted(unsorted_scores, key=lambda x: -x[1])\n",
    "\n",
    "print (tabulate(scores, floatfmt=\".4f\", headers=(\"model\", 'score')))"
   ]
  },
  {
   "cell_type": "code",
   "execution_count": 276,
   "metadata": {},
   "outputs": [
    {
     "name": "stdout",
     "output_type": "stream",
     "text": [
      "model                 score\n",
      "------------------  -------\n",
      "mult_nb              0.8158\n",
      "mult_nb_tfidf        0.8158\n",
      "bern_nb              0.7895\n",
      "bern_nb_tfidf        0.7895\n",
      "logreg_w2v           0.6053\n",
      "logreg_w2v_50        0.8158\n",
      "logreg_w2v_big       0.8421\n",
      "svm_w2v_50           0.7368\n",
      "svm                  0.5263\n",
      "svm_w2v_big          0.7368\n",
      "svm_w2v_tfidf        0.5526\n",
      "svm_w2v_big_tfidfd   0.7895\n"
     ]
    }
   ],
   "source": [
    "test_acc =[]\n",
    "for name,model in all_models:\n",
    "    model.fit(X_train_clean,y_train)\n",
    "    test_acc.append((name,accuracy_score(y_test,model.predict(X_test_clean))))\n",
    "print (tabulate(test_acc, floatfmt=\".4f\", headers=(\"model\", 'test accuracy')))"
   ]
  },
  {
   "cell_type": "code",
   "execution_count": 287,
   "metadata": {},
   "outputs": [],
   "source": [
    "import random\n",
    "\n",
    "def create_null_dist(X,y,model):\n",
    "    model.fit(X,y)\n",
    "    y_pred = model.predict(X)\n",
    "    data_acc = accuracy_score(y,y_pred)\n",
    "    null_dist = []\n",
    "    y_permut = list(y).copy()\n",
    "    for i in range(1000):\n",
    "        random.shuffle(y_permut)\n",
    "        model.fit(X,y_permut)\n",
    "        y_pred = model.predict(sentences)\n",
    "        null_dist.append(accuracy_score(y,y_pred))\n",
    "    return null_dist, data_acc\n",
    "\n",
    "null_dist, data_acc = create_null_dist(X_clean,y,logreg_w2v_big)"
   ]
  },
  {
   "cell_type": "code",
   "execution_count": 288,
   "metadata": {},
   "outputs": [
    {
     "data": {
      "text/plain": [
       "0.0"
      ]
     },
     "execution_count": 288,
     "metadata": {},
     "output_type": "execute_result"
    },
    {
     "data": {
      "image/png": "[encoded data removed]",
      "text/plain": [
       "<Figure size 432x288 with 1 Axes>"
      ]
     },
     "metadata": {
      "needs_background": "light"
     },
     "output_type": "display_data"
    }
   ],
   "source": [
    "plt.hist(null_dist, bins=30)\n",
    "plt.ylabel('frequency')\n",
    "plt.xlabel('training accuracy')\n",
    "plt.axvline(x=data_acc,color = 'red',label = 'data statistic')\n",
    "plt.title('Null distribution, arch strong v.s control')\n",
    "sum(null_dist>data_acc)/len(null_dist)"
   ]
  },
  {
   "cell_type": "markdown",
   "metadata": {},
   "source": [
    "### Neural Network"
   ]
  },
  {
   "cell_type": "code",
   "execution_count": 310,
   "metadata": {},
   "outputs": [
    {
     "name": "stdout",
     "output_type": "stream",
     "text": [
      "You have TensorFlow version 2.0.0\n"
     ]
    }
   ],
   "source": [
    "import tensorflow as tf\n",
    "\n",
    "from sklearn.preprocessing import LabelBinarizer, LabelEncoder\n",
    "from sklearn.metrics import confusion_matrix\n",
    "\n",
    "from tensorflow import keras\n",
    "from keras.models import Sequential\n",
    "from keras.layers import Dense, Activation, Dropout\n",
    "from keras.preprocessing import text, sequence\n",
    "from keras import utils\n",
    "\n",
    "# This code was tested with TensorFlow v1.4\n",
    "print(\"You have TensorFlow version\", tf.__version__)"
   ]
  },
  {
   "cell_type": "code",
   "execution_count": 323,
   "metadata": {},
   "outputs": [
    {
     "name": "stdout",
     "output_type": "stream",
     "text": [
      "Train on 120 samples, validate on 30 samples\n",
      "Epoch 1/5\n",
      "120/120 [==============================] - 0s 2ms/step - loss: 0.7182 - accuracy: 0.5750 - val_loss: 0.6147 - val_accuracy: 0.6000\n",
      "Epoch 2/5\n",
      "120/120 [==============================] - 0s 311us/step - loss: 0.6216 - accuracy: 0.6500 - val_loss: 0.5562 - val_accuracy: 0.7667\n",
      "Epoch 3/5\n",
      "120/120 [==============================] - 0s 284us/step - loss: 0.4886 - accuracy: 0.7917 - val_loss: 0.5210 - val_accuracy: 0.7667\n",
      "Epoch 4/5\n",
      "120/120 [==============================] - 0s 192us/step - loss: 0.4147 - accuracy: 0.8333 - val_loss: 0.5023 - val_accuracy: 0.7667\n",
      "Epoch 5/5\n",
      "120/120 [==============================] - 0s 163us/step - loss: 0.4037 - accuracy: 0.8500 - val_loss: 0.4941 - val_accuracy: 0.8333\n",
      "38/38 [==============================] - 0s 137us/step\n",
      "Test score: 0.45322724078830917\n",
      "Test accuracy: 0.8421052694320679\n"
     ]
    }
   ],
   "source": [
    "random.seed(474747)\n",
    "treatment_control = df[df['arm'].isin([treatment_label,control_label])]\n",
    "X = np.array(treatment_control['post_q'].apply(cleanText))\n",
    "y = treatment_control['arm']\n",
    "X_clean = clean_tokenize(X)\n",
    "X_train, X_test, y_train, y_test = train_test_split(X, y, test_size=0.2, random_state = 42)\n",
    "X_train_clean = clean_tokenize(X_train)\n",
    "X_test_clean = clean_tokenize(X_test)\n",
    "\n",
    "max_words = 50\n",
    "tokenize = text.Tokenizer(num_words=max_words, char_level=False)\n",
    "tokenize.fit_on_texts(X_train_clean) # only fit on train\n",
    "x_train = tokenize.texts_to_matrix(X_train_clean, mode = 'tfidf')\n",
    "x_test = tokenize.texts_to_matrix(X_test_clean, mode = 'tfidf')\n",
    "\n",
    "# Use sklearn utility to convert label strings to numbered index\n",
    "encoder = LabelEncoder()\n",
    "encoder.fit(y_train)\n",
    "y_train = encoder.transform(y_train)\n",
    "y_test = encoder.transform(y_test)\n",
    "# Converts the labels to a one-hot representation\n",
    "num_classes = np.max(y_train) + 1\n",
    "y_train = utils.to_categorical(y_train, num_classes)\n",
    "y_test = utils.to_categorical(y_test, num_classes)\n",
    "\n",
    "batch_size = 30\n",
    "epochs = 5\n",
    "\n",
    "model = Sequential()\n",
    "model.add(Dense(512, input_shape=(max_words,)))\n",
    "model.add(Activation('relu'))\n",
    "model.add(Dropout(0.5))\n",
    "model.add(Dense(num_classes))\n",
    "model.add(Activation('softmax'))\n",
    "\n",
    "model.compile(loss='categorical_crossentropy',\n",
    "              optimizer='adam',\n",
    "              metrics=['accuracy'])\n",
    "\n",
    "history = model.fit(x_train, y_train,\n",
    "                    batch_size=batch_size,\n",
    "                    epochs=epochs,\n",
    "                    verbose=1,\n",
    "                    validation_split=0.2)\n",
    "\n",
    "score = model.evaluate(x_test, y_test,\n",
    "                       batch_size=batch_size, verbose=1)\n",
    "print('Test score:', score[0])\n",
    "print('Test accuracy:', score[1])"
   ]
  },
  {
   "cell_type": "markdown",
   "metadata": {},
   "source": [
    "## Word Cloud"
   ]
  },
  {
   "cell_type": "code",
   "execution_count": 98,
   "metadata": {},
   "outputs": [
    {
     "data": {
      "image/png": "[encoded data removed]",
      "text/plain": [
       "<Figure size 432x288 with 1 Axes>"
      ]
     },
     "metadata": {
      "needs_background": "light"
     },
     "output_type": "display_data"
    }
   ],
   "source": [
    "from PIL import Image\n",
    "from wordcloud import WordCloud, STOPWORDS, ImageColorGenerator\n",
    "\n",
    "label = 'curb_appeal'\n",
    "\n",
    "treatment_control = df[df['arm'].isin([label])]\n",
    "X = np.array(treatment_control['post_q'].apply(cleanText))\n",
    "\n",
    "def clean(X):\n",
    "    sentences = []\n",
    "    for res in X:\n",
    "        tokens = gensim.utils.simple_preprocess(res)\n",
    "        cleaned_tokens = \"\"\n",
    "        for token in tokens:\n",
    "            if token not in stop_words:\n",
    "                cleaned_tokens+=token\n",
    "                cleaned_tokens += \" \"\n",
    "        sentences.append(cleaned_tokens)\n",
    "    return sentences\n",
    "\n",
    "X_clean = clean(X)\n",
    "\n",
    "text = \" \".join(text for text in X_clean)\n",
    "stop_words_cloud = []\n",
    "stop_words_cloud.append('house')\n",
    "stop_words_cloud.append('window')\n",
    "stop_words_cloud.append('home')\n",
    "stop_words_cloud.append('also')\n",
    "stop_words_cloud.append('look')\n",
    "stop_words_cloud.append('front')\n",
    "stop_words_cloud.append('brick')\n",
    "stop_words_cloud.append('door')\n",
    "wordcloud = WordCloud(stopwords = stop_words_cloud,background_color=\"white\",max_words=30).generate(text)\n",
    "plt.imshow(wordcloud, interpolation='bilinear')\n",
    "plt.axis(\"off\")\n",
    "# plt.show()\n",
    "plt.savefig(label+'_wordcloud.png')"
   ]
  },
  {
   "cell_type": "code",
   "execution_count": null,
   "metadata": {},
   "outputs": [],
   "source": []
  },
  {
   "cell_type": "code",
   "execution_count": null,
   "metadata": {},
   "outputs": [],
   "source": []
  },
  {
   "cell_type": "code",
   "execution_count": null,
   "metadata": {},
   "outputs": [],
   "source": []
  }
 ],
 "metadata": {
  "kernelspec": {
   "display_name": "Python 3",
   "language": "python",
   "name": "python3"
  },
  "language_info": {
   "codemirror_mode": {
    "name": "ipython",
    "version": 3
   },
   "file_extension": ".py",
   "mimetype": "text/x-python",
   "name": "python",
   "nbconvert_exporter": "python",
   "pygments_lexer": "ipython3",
   "version": "3.6.9"
  }
 },
 "nbformat": 4,
 "nbformat_minor": 2
}
